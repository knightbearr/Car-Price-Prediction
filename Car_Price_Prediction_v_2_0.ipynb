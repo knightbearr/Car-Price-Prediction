{
  "nbformat": 4,
  "nbformat_minor": 0,
  "metadata": {
    "colab": {
      "name": "Car-Price-Prediction v.2.0.ipynb",
      "provenance": [],
      "collapsed_sections": []
    },
    "kernelspec": {
      "name": "python3",
      "display_name": "Python 3"
    },
    "language_info": {
      "name": "python"
    }
  },
  "cells": [
    {
      "cell_type": "markdown",
      "metadata": {
        "id": "IwLtXcMlQc36"
      },
      "source": [
        "# **Workflow**\n",
        "\n",
        "1. Data Collection\n",
        "2. Data Cleaning & Checking\n",
        "3. Visualize Data & Checking\n",
        "4. Splitting Data\n",
        "5. Training Model Using XGBRegressor\n",
        "6. Evaluate Model\n",
        "7. Prediction"
      ]
    },
    {
      "cell_type": "markdown",
      "metadata": {
        "id": "s7arNuFJP_FA"
      },
      "source": [
        "## **Import Libraries**\n",
        "\n",
        "Import the important module"
      ]
    },
    {
      "cell_type": "code",
      "metadata": {
        "id": "_7u4cy_cE0Vv"
      },
      "source": [
        "import pandas as pd\n",
        "import numpy as np\n",
        "import math\n",
        "import matplotlib.pyplot as plt\n",
        "import seaborn as sns\n",
        "from sklearn.model_selection import train_test_split\n",
        "from sklearn import metrics\n",
        "from xgboost import XGBRegressor\n",
        "import pandas.util.testing as tm"
      ],
      "execution_count": 117,
      "outputs": []
    },
    {
      "cell_type": "markdown",
      "metadata": {
        "id": "X8CCXTAmDvoB"
      },
      "source": [
        "## **Load Data**"
      ]
    },
    {
      "cell_type": "code",
      "metadata": {
        "id": "pVMKIxBuFFAm"
      },
      "source": [
        "carData = pd.read_csv('/content/Car Data v3.csv')"
      ],
      "execution_count": 118,
      "outputs": []
    },
    {
      "cell_type": "markdown",
      "metadata": {
        "id": "-YU6WEQwDzSX"
      },
      "source": [
        "## **Data Cleaning & Checking**"
      ]
    },
    {
      "cell_type": "code",
      "metadata": {
        "id": "FkeScWBJFGYE",
        "colab": {
          "base_uri": "https://localhost:8080/",
          "height": 357
        },
        "outputId": "3eb09ee6-7780-4510-9b6a-75adcf61219a"
      },
      "source": [
        "# Getting first 5 row of the data\n",
        "carData.head()"
      ],
      "execution_count": 119,
      "outputs": [
        {
          "output_type": "execute_result",
          "data": {
            "text/html": [
              "<div>\n",
              "<style scoped>\n",
              "    .dataframe tbody tr th:only-of-type {\n",
              "        vertical-align: middle;\n",
              "    }\n",
              "\n",
              "    .dataframe tbody tr th {\n",
              "        vertical-align: top;\n",
              "    }\n",
              "\n",
              "    .dataframe thead th {\n",
              "        text-align: right;\n",
              "    }\n",
              "</style>\n",
              "<table border=\"1\" class=\"dataframe\">\n",
              "  <thead>\n",
              "    <tr style=\"text-align: right;\">\n",
              "      <th></th>\n",
              "      <th>name</th>\n",
              "      <th>year</th>\n",
              "      <th>selling_price</th>\n",
              "      <th>km_driven</th>\n",
              "      <th>fuel</th>\n",
              "      <th>seller_type</th>\n",
              "      <th>transmission</th>\n",
              "      <th>owner</th>\n",
              "      <th>mileage</th>\n",
              "      <th>engine</th>\n",
              "      <th>max_power</th>\n",
              "      <th>torque</th>\n",
              "      <th>seats</th>\n",
              "    </tr>\n",
              "  </thead>\n",
              "  <tbody>\n",
              "    <tr>\n",
              "      <th>0</th>\n",
              "      <td>Maruti Swift Dzire VDI</td>\n",
              "      <td>2014</td>\n",
              "      <td>450000</td>\n",
              "      <td>145500</td>\n",
              "      <td>Diesel</td>\n",
              "      <td>Individual</td>\n",
              "      <td>Manual</td>\n",
              "      <td>First Owner</td>\n",
              "      <td>23.4 kmpl</td>\n",
              "      <td>1248 CC</td>\n",
              "      <td>74 bhp</td>\n",
              "      <td>190Nm@ 2000rpm</td>\n",
              "      <td>5.0</td>\n",
              "    </tr>\n",
              "    <tr>\n",
              "      <th>1</th>\n",
              "      <td>Skoda Rapid 1.5 TDI Ambition</td>\n",
              "      <td>2014</td>\n",
              "      <td>370000</td>\n",
              "      <td>120000</td>\n",
              "      <td>Diesel</td>\n",
              "      <td>Individual</td>\n",
              "      <td>Manual</td>\n",
              "      <td>Second Owner</td>\n",
              "      <td>21.14 kmpl</td>\n",
              "      <td>1498 CC</td>\n",
              "      <td>103.52 bhp</td>\n",
              "      <td>250Nm@ 1500-2500rpm</td>\n",
              "      <td>5.0</td>\n",
              "    </tr>\n",
              "    <tr>\n",
              "      <th>2</th>\n",
              "      <td>Honda City 2017-2020 EXi</td>\n",
              "      <td>2006</td>\n",
              "      <td>158000</td>\n",
              "      <td>140000</td>\n",
              "      <td>Petrol</td>\n",
              "      <td>Individual</td>\n",
              "      <td>Manual</td>\n",
              "      <td>Third Owner</td>\n",
              "      <td>17.7 kmpl</td>\n",
              "      <td>1497 CC</td>\n",
              "      <td>78 bhp</td>\n",
              "      <td>12.7@ 2,700(kgm@ rpm)</td>\n",
              "      <td>5.0</td>\n",
              "    </tr>\n",
              "    <tr>\n",
              "      <th>3</th>\n",
              "      <td>Hyundai i20 Sportz Diesel</td>\n",
              "      <td>2010</td>\n",
              "      <td>225000</td>\n",
              "      <td>127000</td>\n",
              "      <td>Diesel</td>\n",
              "      <td>Individual</td>\n",
              "      <td>Manual</td>\n",
              "      <td>First Owner</td>\n",
              "      <td>23.0 kmpl</td>\n",
              "      <td>1396 CC</td>\n",
              "      <td>90 bhp</td>\n",
              "      <td>22.4 kgm at 1750-2750rpm</td>\n",
              "      <td>5.0</td>\n",
              "    </tr>\n",
              "    <tr>\n",
              "      <th>4</th>\n",
              "      <td>Maruti Swift VXI BSIII</td>\n",
              "      <td>2007</td>\n",
              "      <td>130000</td>\n",
              "      <td>120000</td>\n",
              "      <td>Petrol</td>\n",
              "      <td>Individual</td>\n",
              "      <td>Manual</td>\n",
              "      <td>First Owner</td>\n",
              "      <td>16.1 kmpl</td>\n",
              "      <td>1298 CC</td>\n",
              "      <td>88.2 bhp</td>\n",
              "      <td>11.5@ 4,500(kgm@ rpm)</td>\n",
              "      <td>5.0</td>\n",
              "    </tr>\n",
              "  </tbody>\n",
              "</table>\n",
              "</div>"
            ],
            "text/plain": [
              "                           name  year  ...                    torque  seats\n",
              "0        Maruti Swift Dzire VDI  2014  ...            190Nm@ 2000rpm    5.0\n",
              "1  Skoda Rapid 1.5 TDI Ambition  2014  ...       250Nm@ 1500-2500rpm    5.0\n",
              "2      Honda City 2017-2020 EXi  2006  ...     12.7@ 2,700(kgm@ rpm)    5.0\n",
              "3     Hyundai i20 Sportz Diesel  2010  ...  22.4 kgm at 1750-2750rpm    5.0\n",
              "4        Maruti Swift VXI BSIII  2007  ...     11.5@ 4,500(kgm@ rpm)    5.0\n",
              "\n",
              "[5 rows x 13 columns]"
            ]
          },
          "metadata": {
            "tags": []
          },
          "execution_count": 119
        }
      ]
    },
    {
      "cell_type": "code",
      "metadata": {
        "colab": {
          "base_uri": "https://localhost:8080/",
          "height": 374
        },
        "id": "o8wYEy9xGeX_",
        "outputId": "41b9f615-22d7-4d8a-9831-027f34e3d7ce"
      },
      "source": [
        "# Getting last 5 row of the data\n",
        "carData.tail()"
      ],
      "execution_count": 120,
      "outputs": [
        {
          "output_type": "execute_result",
          "data": {
            "text/html": [
              "<div>\n",
              "<style scoped>\n",
              "    .dataframe tbody tr th:only-of-type {\n",
              "        vertical-align: middle;\n",
              "    }\n",
              "\n",
              "    .dataframe tbody tr th {\n",
              "        vertical-align: top;\n",
              "    }\n",
              "\n",
              "    .dataframe thead th {\n",
              "        text-align: right;\n",
              "    }\n",
              "</style>\n",
              "<table border=\"1\" class=\"dataframe\">\n",
              "  <thead>\n",
              "    <tr style=\"text-align: right;\">\n",
              "      <th></th>\n",
              "      <th>name</th>\n",
              "      <th>year</th>\n",
              "      <th>selling_price</th>\n",
              "      <th>km_driven</th>\n",
              "      <th>fuel</th>\n",
              "      <th>seller_type</th>\n",
              "      <th>transmission</th>\n",
              "      <th>owner</th>\n",
              "      <th>mileage</th>\n",
              "      <th>engine</th>\n",
              "      <th>max_power</th>\n",
              "      <th>torque</th>\n",
              "      <th>seats</th>\n",
              "    </tr>\n",
              "  </thead>\n",
              "  <tbody>\n",
              "    <tr>\n",
              "      <th>8123</th>\n",
              "      <td>Hyundai i20 Magna</td>\n",
              "      <td>2013</td>\n",
              "      <td>320000</td>\n",
              "      <td>110000</td>\n",
              "      <td>Petrol</td>\n",
              "      <td>Individual</td>\n",
              "      <td>Manual</td>\n",
              "      <td>First Owner</td>\n",
              "      <td>18.5 kmpl</td>\n",
              "      <td>1197 CC</td>\n",
              "      <td>82.85 bhp</td>\n",
              "      <td>113.7Nm@ 4000rpm</td>\n",
              "      <td>5.0</td>\n",
              "    </tr>\n",
              "    <tr>\n",
              "      <th>8124</th>\n",
              "      <td>Hyundai Verna CRDi SX</td>\n",
              "      <td>2007</td>\n",
              "      <td>135000</td>\n",
              "      <td>119000</td>\n",
              "      <td>Diesel</td>\n",
              "      <td>Individual</td>\n",
              "      <td>Manual</td>\n",
              "      <td>Fourth &amp; Above Owner</td>\n",
              "      <td>16.8 kmpl</td>\n",
              "      <td>1493 CC</td>\n",
              "      <td>110 bhp</td>\n",
              "      <td>24@ 1,900-2,750(kgm@ rpm)</td>\n",
              "      <td>5.0</td>\n",
              "    </tr>\n",
              "    <tr>\n",
              "      <th>8125</th>\n",
              "      <td>Maruti Swift Dzire ZDi</td>\n",
              "      <td>2009</td>\n",
              "      <td>382000</td>\n",
              "      <td>120000</td>\n",
              "      <td>Diesel</td>\n",
              "      <td>Individual</td>\n",
              "      <td>Manual</td>\n",
              "      <td>First Owner</td>\n",
              "      <td>19.3 kmpl</td>\n",
              "      <td>1248 CC</td>\n",
              "      <td>73.9 bhp</td>\n",
              "      <td>190Nm@ 2000rpm</td>\n",
              "      <td>5.0</td>\n",
              "    </tr>\n",
              "    <tr>\n",
              "      <th>8126</th>\n",
              "      <td>Tata Indigo CR4</td>\n",
              "      <td>2013</td>\n",
              "      <td>290000</td>\n",
              "      <td>25000</td>\n",
              "      <td>Diesel</td>\n",
              "      <td>Individual</td>\n",
              "      <td>Manual</td>\n",
              "      <td>First Owner</td>\n",
              "      <td>23.57 kmpl</td>\n",
              "      <td>1396 CC</td>\n",
              "      <td>70 bhp</td>\n",
              "      <td>140Nm@ 1800-3000rpm</td>\n",
              "      <td>5.0</td>\n",
              "    </tr>\n",
              "    <tr>\n",
              "      <th>8127</th>\n",
              "      <td>Tata Indigo CR4</td>\n",
              "      <td>2013</td>\n",
              "      <td>290000</td>\n",
              "      <td>25000</td>\n",
              "      <td>Diesel</td>\n",
              "      <td>Individual</td>\n",
              "      <td>Manual</td>\n",
              "      <td>First Owner</td>\n",
              "      <td>23.57 kmpl</td>\n",
              "      <td>1396 CC</td>\n",
              "      <td>70 bhp</td>\n",
              "      <td>140Nm@ 1800-3000rpm</td>\n",
              "      <td>5.0</td>\n",
              "    </tr>\n",
              "  </tbody>\n",
              "</table>\n",
              "</div>"
            ],
            "text/plain": [
              "                        name  year  ...                     torque  seats\n",
              "8123       Hyundai i20 Magna  2013  ...           113.7Nm@ 4000rpm    5.0\n",
              "8124   Hyundai Verna CRDi SX  2007  ...  24@ 1,900-2,750(kgm@ rpm)    5.0\n",
              "8125  Maruti Swift Dzire ZDi  2009  ...             190Nm@ 2000rpm    5.0\n",
              "8126         Tata Indigo CR4  2013  ...        140Nm@ 1800-3000rpm    5.0\n",
              "8127         Tata Indigo CR4  2013  ...        140Nm@ 1800-3000rpm    5.0\n",
              "\n",
              "[5 rows x 13 columns]"
            ]
          },
          "metadata": {
            "tags": []
          },
          "execution_count": 120
        }
      ]
    },
    {
      "cell_type": "code",
      "metadata": {
        "colab": {
          "base_uri": "https://localhost:8080/",
          "height": 297
        },
        "id": "4o0Qhu4lGhj1",
        "outputId": "909fa6bc-b8cd-4ba7-85a1-1f4aeac172fb"
      },
      "source": [
        "# Getting the statistics report from the data\n",
        "carData.describe()"
      ],
      "execution_count": 121,
      "outputs": [
        {
          "output_type": "execute_result",
          "data": {
            "text/html": [
              "<div>\n",
              "<style scoped>\n",
              "    .dataframe tbody tr th:only-of-type {\n",
              "        vertical-align: middle;\n",
              "    }\n",
              "\n",
              "    .dataframe tbody tr th {\n",
              "        vertical-align: top;\n",
              "    }\n",
              "\n",
              "    .dataframe thead th {\n",
              "        text-align: right;\n",
              "    }\n",
              "</style>\n",
              "<table border=\"1\" class=\"dataframe\">\n",
              "  <thead>\n",
              "    <tr style=\"text-align: right;\">\n",
              "      <th></th>\n",
              "      <th>year</th>\n",
              "      <th>selling_price</th>\n",
              "      <th>km_driven</th>\n",
              "      <th>seats</th>\n",
              "    </tr>\n",
              "  </thead>\n",
              "  <tbody>\n",
              "    <tr>\n",
              "      <th>count</th>\n",
              "      <td>8128.000000</td>\n",
              "      <td>8.128000e+03</td>\n",
              "      <td>8.128000e+03</td>\n",
              "      <td>7907.000000</td>\n",
              "    </tr>\n",
              "    <tr>\n",
              "      <th>mean</th>\n",
              "      <td>2013.804011</td>\n",
              "      <td>6.382718e+05</td>\n",
              "      <td>6.981951e+04</td>\n",
              "      <td>5.416719</td>\n",
              "    </tr>\n",
              "    <tr>\n",
              "      <th>std</th>\n",
              "      <td>4.044249</td>\n",
              "      <td>8.062534e+05</td>\n",
              "      <td>5.655055e+04</td>\n",
              "      <td>0.959588</td>\n",
              "    </tr>\n",
              "    <tr>\n",
              "      <th>min</th>\n",
              "      <td>1983.000000</td>\n",
              "      <td>2.999900e+04</td>\n",
              "      <td>1.000000e+00</td>\n",
              "      <td>2.000000</td>\n",
              "    </tr>\n",
              "    <tr>\n",
              "      <th>25%</th>\n",
              "      <td>2011.000000</td>\n",
              "      <td>2.549990e+05</td>\n",
              "      <td>3.500000e+04</td>\n",
              "      <td>5.000000</td>\n",
              "    </tr>\n",
              "    <tr>\n",
              "      <th>50%</th>\n",
              "      <td>2015.000000</td>\n",
              "      <td>4.500000e+05</td>\n",
              "      <td>6.000000e+04</td>\n",
              "      <td>5.000000</td>\n",
              "    </tr>\n",
              "    <tr>\n",
              "      <th>75%</th>\n",
              "      <td>2017.000000</td>\n",
              "      <td>6.750000e+05</td>\n",
              "      <td>9.800000e+04</td>\n",
              "      <td>5.000000</td>\n",
              "    </tr>\n",
              "    <tr>\n",
              "      <th>max</th>\n",
              "      <td>2020.000000</td>\n",
              "      <td>1.000000e+07</td>\n",
              "      <td>2.360457e+06</td>\n",
              "      <td>14.000000</td>\n",
              "    </tr>\n",
              "  </tbody>\n",
              "</table>\n",
              "</div>"
            ],
            "text/plain": [
              "              year  selling_price     km_driven        seats\n",
              "count  8128.000000   8.128000e+03  8.128000e+03  7907.000000\n",
              "mean   2013.804011   6.382718e+05  6.981951e+04     5.416719\n",
              "std       4.044249   8.062534e+05  5.655055e+04     0.959588\n",
              "min    1983.000000   2.999900e+04  1.000000e+00     2.000000\n",
              "25%    2011.000000   2.549990e+05  3.500000e+04     5.000000\n",
              "50%    2015.000000   4.500000e+05  6.000000e+04     5.000000\n",
              "75%    2017.000000   6.750000e+05  9.800000e+04     5.000000\n",
              "max    2020.000000   1.000000e+07  2.360457e+06    14.000000"
            ]
          },
          "metadata": {
            "tags": []
          },
          "execution_count": 121
        }
      ]
    },
    {
      "cell_type": "code",
      "metadata": {
        "colab": {
          "base_uri": "https://localhost:8080/"
        },
        "id": "Jd25VYapGnuX",
        "outputId": "1d9086d8-e909-49a6-ac7f-d46192de8812"
      },
      "source": [
        "# Getting some information about the data frame\n",
        "carData.info()"
      ],
      "execution_count": 122,
      "outputs": [
        {
          "output_type": "stream",
          "text": [
            "<class 'pandas.core.frame.DataFrame'>\n",
            "RangeIndex: 8128 entries, 0 to 8127\n",
            "Data columns (total 13 columns):\n",
            " #   Column         Non-Null Count  Dtype  \n",
            "---  ------         --------------  -----  \n",
            " 0   name           8128 non-null   object \n",
            " 1   year           8128 non-null   int64  \n",
            " 2   selling_price  8128 non-null   int64  \n",
            " 3   km_driven      8128 non-null   int64  \n",
            " 4   fuel           8128 non-null   object \n",
            " 5   seller_type    8128 non-null   object \n",
            " 6   transmission   8128 non-null   object \n",
            " 7   owner          8128 non-null   object \n",
            " 8   mileage        7907 non-null   object \n",
            " 9   engine         7907 non-null   object \n",
            " 10  max_power      7913 non-null   object \n",
            " 11  torque         7906 non-null   object \n",
            " 12  seats          7907 non-null   float64\n",
            "dtypes: float64(1), int64(3), object(9)\n",
            "memory usage: 825.6+ KB\n"
          ],
          "name": "stdout"
        }
      ]
    },
    {
      "cell_type": "code",
      "metadata": {
        "colab": {
          "base_uri": "https://localhost:8080/"
        },
        "id": "Ph8m_YTJHj5j",
        "outputId": "7a5294bb-edaf-468f-cc32-fdb6ff6187c1"
      },
      "source": [
        "# Checking the number of missing values\n",
        "carData.isnull().sum()"
      ],
      "execution_count": 123,
      "outputs": [
        {
          "output_type": "execute_result",
          "data": {
            "text/plain": [
              "name               0\n",
              "year               0\n",
              "selling_price      0\n",
              "km_driven          0\n",
              "fuel               0\n",
              "seller_type        0\n",
              "transmission       0\n",
              "owner              0\n",
              "mileage          221\n",
              "engine           221\n",
              "max_power        215\n",
              "torque           222\n",
              "seats            221\n",
              "dtype: int64"
            ]
          },
          "metadata": {
            "tags": []
          },
          "execution_count": 123
        }
      ]
    },
    {
      "cell_type": "code",
      "metadata": {
        "colab": {
          "base_uri": "https://localhost:8080/"
        },
        "id": "UlwURTwxGrEv",
        "outputId": "b57b6444-88bb-44dc-eed1-d5bfbb7e7de2"
      },
      "source": [
        "# Checking the shape of data\n",
        "carData.shape"
      ],
      "execution_count": 124,
      "outputs": [
        {
          "output_type": "execute_result",
          "data": {
            "text/plain": [
              "(8128, 13)"
            ]
          },
          "metadata": {
            "tags": []
          },
          "execution_count": 124
        }
      ]
    },
    {
      "cell_type": "code",
      "metadata": {
        "colab": {
          "base_uri": "https://localhost:8080/"
        },
        "id": "Kyzuh1FQGtjm",
        "outputId": "6a24df10-451d-4e3f-a12d-5ce7120111f0"
      },
      "source": [
        "# Find value class width of price\n",
        "range = carData.selling_price.max() - carData.selling_price.min()\n",
        "classWidth = range/len(carData)\n",
        "print(f'Class Width : {classWidth}')"
      ],
      "execution_count": 125,
      "outputs": [
        {
          "output_type": "stream",
          "text": [
            "Class Width : 1226.6241387795276\n"
          ],
          "name": "stdout"
        }
      ]
    },
    {
      "cell_type": "code",
      "metadata": {
        "colab": {
          "base_uri": "https://localhost:8080/"
        },
        "id": "Wnu4Z6qWG1Hw",
        "outputId": "13a76d3b-c0bc-4bb6-8f98-8869766d4a21"
      },
      "source": [
        "# Looking and Checking the actual Mean value of data\n",
        "def checkStatisticsMean(data):\n",
        "    ch1 = data.selling_price.mean()\n",
        "    ch2 = data.seats.mean()\n",
        "    ch3 = data.km_driven.mean()\n",
        "    ch4 = data.year.mean()\n",
        "\n",
        "    print(f'Price Mean : {ch1}')\n",
        "    print(f'Seats Mean : {ch2}')\n",
        "    print(f'Km Driven Mean : {ch3}')\n",
        "    print(f'Year Mean : {ch4}')\n",
        "\n",
        "checkStatisticsMean(carData)"
      ],
      "execution_count": 126,
      "outputs": [
        {
          "output_type": "stream",
          "text": [
            "Price Mean : 638271.8077017716\n",
            "Seats Mean : 5.41671936259011\n",
            "Km Driven Mean : 69819.51082677166\n",
            "Year Mean : 2013.8040108267717\n"
          ],
          "name": "stdout"
        }
      ]
    },
    {
      "cell_type": "code",
      "metadata": {
        "colab": {
          "base_uri": "https://localhost:8080/"
        },
        "id": "FZbBzszaG3sS",
        "outputId": "69416865-a5fa-4cff-e3c1-a872dccdd2ff"
      },
      "source": [
        "# Looking and Checking the actual Max value of data\n",
        "def checkStatisticsMax(data):\n",
        "    ch1 = data.selling_price.max()\n",
        "    ch2 = data.seats.max()\n",
        "    ch3 = data.km_driven.max()\n",
        "    ch4 = data.year.max()\n",
        "\n",
        "    print(f'Price Max : {ch1}')\n",
        "    print(f'Seats Max : {ch2}')\n",
        "    print(f'Km Driven Max : {ch3}')\n",
        "    print(f'Year Max : {ch4}')\n",
        "\n",
        "checkStatisticsMax(carData)"
      ],
      "execution_count": 127,
      "outputs": [
        {
          "output_type": "stream",
          "text": [
            "Price Max : 10000000\n",
            "Seats Max : 14.0\n",
            "Km Driven Max : 2360457\n",
            "Year Max : 2020\n"
          ],
          "name": "stdout"
        }
      ]
    },
    {
      "cell_type": "code",
      "metadata": {
        "colab": {
          "base_uri": "https://localhost:8080/"
        },
        "id": "u7NGj4r1G68u",
        "outputId": "b5843eda-1aab-4a39-da70-7df4adb7a207"
      },
      "source": [
        "# Looking and Checking the actual Min value of data\n",
        "def checkStatisticsMin(data):\n",
        "    ch1 = data.selling_price.min()\n",
        "    ch2 = data.seats.min()\n",
        "    ch3 = data.km_driven.min()\n",
        "    ch4 = data.year.min()\n",
        "\n",
        "    print(f'Price Min : {ch1}')\n",
        "    print(f'Seats Min : {ch2}')\n",
        "    print(f'Km Driven Min : {ch3}')\n",
        "    print(f'Year Min : {ch4}')\n",
        "\n",
        "checkStatisticsMin(carData)"
      ],
      "execution_count": 128,
      "outputs": [
        {
          "output_type": "stream",
          "text": [
            "Price Min : 29999\n",
            "Seats Min : 2.0\n",
            "Km Driven Min : 1\n",
            "Year Min : 1983\n"
          ],
          "name": "stdout"
        }
      ]
    },
    {
      "cell_type": "code",
      "metadata": {
        "colab": {
          "base_uri": "https://localhost:8080/"
        },
        "id": "zYIDK_5WG9Cf",
        "outputId": "32bb59e5-0496-422b-c824-abbc6d74c0df"
      },
      "source": [
        "# Looking and Checking the distribution categorical data\n",
        "def checkDistributionCategorical(data):\n",
        "    ch1 = data.fuel.value_counts()\n",
        "    ch2 = data.transmission.value_counts()\n",
        "    ch3 = data.seller_type.value_counts()\n",
        "    ch4 = data.owner.value_counts()\n",
        "\n",
        "    print(f'Fuel Data :\\n{ch1}\\n')\n",
        "    print(f'Transmission Data :\\n{ch2}\\n')\n",
        "    print(f'Seller Type :\\n{ch3}\\n')\n",
        "    print(f'Owner :\\n{ch4}\\n')\n",
        "\n",
        "checkDistributionCategorical(carData)"
      ],
      "execution_count": 129,
      "outputs": [
        {
          "output_type": "stream",
          "text": [
            "Fuel Data :\n",
            "Diesel    4402\n",
            "Petrol    3631\n",
            "CNG         57\n",
            "LPG         38\n",
            "Name: fuel, dtype: int64\n",
            "\n",
            "Transmission Data :\n",
            "Manual       7078\n",
            "Automatic    1050\n",
            "Name: transmission, dtype: int64\n",
            "\n",
            "Seller Type :\n",
            "Individual          6766\n",
            "Dealer              1126\n",
            "Trustmark Dealer     236\n",
            "Name: seller_type, dtype: int64\n",
            "\n",
            "Owner :\n",
            "First Owner             5289\n",
            "Second Owner            2105\n",
            "Third Owner              555\n",
            "Fourth & Above Owner     174\n",
            "Test Drive Car             5\n",
            "Name: owner, dtype: int64\n",
            "\n"
          ],
          "name": "stdout"
        }
      ]
    },
    {
      "cell_type": "code",
      "metadata": {
        "id": "vD_3KirGG_a2"
      },
      "source": [
        "# Encode Fuel Data\n",
        "carData.replace({'fuel':{'Diesel': 0, 'Petrol': 1, 'CNG': 2, 'LPG': 3}}, inplace=True)\n",
        "\n",
        "# Encode Transmission Data\n",
        "carData.replace({'transmission':{'Manual': 0, 'Automatic': 1}}, inplace=True)\n",
        "\n",
        "# Encode Seller Type Data\n",
        "carData.replace({'seller_type':{'Individual': 0, 'Dealer': 1, 'Trustmark Dealer': 2}}, inplace=True)\n",
        "\n",
        "# Encode Owner Data\n",
        "carData.replace({'owner':{'First Owner': 0, 'Second Owner': 1, 'Third Owner': 2, 'Fourth & Above Owner': 3, 'Test Drive Car': 4}}, inplace=True)"
      ],
      "execution_count": 130,
      "outputs": []
    },
    {
      "cell_type": "code",
      "metadata": {
        "colab": {
          "base_uri": "https://localhost:8080/",
          "height": 419
        },
        "id": "qzCLrLB2H6T4",
        "outputId": "203d0d4e-f6ef-4eaa-8eff-2b7458172ac4"
      },
      "source": [
        "# Checking is the data succesfully Encode\n",
        "carData.loc[:, ['fuel', 'transmission', 'seller_type', 'owner']]"
      ],
      "execution_count": 131,
      "outputs": [
        {
          "output_type": "execute_result",
          "data": {
            "text/html": [
              "<div>\n",
              "<style scoped>\n",
              "    .dataframe tbody tr th:only-of-type {\n",
              "        vertical-align: middle;\n",
              "    }\n",
              "\n",
              "    .dataframe tbody tr th {\n",
              "        vertical-align: top;\n",
              "    }\n",
              "\n",
              "    .dataframe thead th {\n",
              "        text-align: right;\n",
              "    }\n",
              "</style>\n",
              "<table border=\"1\" class=\"dataframe\">\n",
              "  <thead>\n",
              "    <tr style=\"text-align: right;\">\n",
              "      <th></th>\n",
              "      <th>fuel</th>\n",
              "      <th>transmission</th>\n",
              "      <th>seller_type</th>\n",
              "      <th>owner</th>\n",
              "    </tr>\n",
              "  </thead>\n",
              "  <tbody>\n",
              "    <tr>\n",
              "      <th>0</th>\n",
              "      <td>0</td>\n",
              "      <td>0</td>\n",
              "      <td>0</td>\n",
              "      <td>0</td>\n",
              "    </tr>\n",
              "    <tr>\n",
              "      <th>1</th>\n",
              "      <td>0</td>\n",
              "      <td>0</td>\n",
              "      <td>0</td>\n",
              "      <td>1</td>\n",
              "    </tr>\n",
              "    <tr>\n",
              "      <th>2</th>\n",
              "      <td>1</td>\n",
              "      <td>0</td>\n",
              "      <td>0</td>\n",
              "      <td>2</td>\n",
              "    </tr>\n",
              "    <tr>\n",
              "      <th>3</th>\n",
              "      <td>0</td>\n",
              "      <td>0</td>\n",
              "      <td>0</td>\n",
              "      <td>0</td>\n",
              "    </tr>\n",
              "    <tr>\n",
              "      <th>4</th>\n",
              "      <td>1</td>\n",
              "      <td>0</td>\n",
              "      <td>0</td>\n",
              "      <td>0</td>\n",
              "    </tr>\n",
              "    <tr>\n",
              "      <th>...</th>\n",
              "      <td>...</td>\n",
              "      <td>...</td>\n",
              "      <td>...</td>\n",
              "      <td>...</td>\n",
              "    </tr>\n",
              "    <tr>\n",
              "      <th>8123</th>\n",
              "      <td>1</td>\n",
              "      <td>0</td>\n",
              "      <td>0</td>\n",
              "      <td>0</td>\n",
              "    </tr>\n",
              "    <tr>\n",
              "      <th>8124</th>\n",
              "      <td>0</td>\n",
              "      <td>0</td>\n",
              "      <td>0</td>\n",
              "      <td>3</td>\n",
              "    </tr>\n",
              "    <tr>\n",
              "      <th>8125</th>\n",
              "      <td>0</td>\n",
              "      <td>0</td>\n",
              "      <td>0</td>\n",
              "      <td>0</td>\n",
              "    </tr>\n",
              "    <tr>\n",
              "      <th>8126</th>\n",
              "      <td>0</td>\n",
              "      <td>0</td>\n",
              "      <td>0</td>\n",
              "      <td>0</td>\n",
              "    </tr>\n",
              "    <tr>\n",
              "      <th>8127</th>\n",
              "      <td>0</td>\n",
              "      <td>0</td>\n",
              "      <td>0</td>\n",
              "      <td>0</td>\n",
              "    </tr>\n",
              "  </tbody>\n",
              "</table>\n",
              "<p>8128 rows × 4 columns</p>\n",
              "</div>"
            ],
            "text/plain": [
              "      fuel  transmission  seller_type  owner\n",
              "0        0             0            0      0\n",
              "1        0             0            0      1\n",
              "2        1             0            0      2\n",
              "3        0             0            0      0\n",
              "4        1             0            0      0\n",
              "...    ...           ...          ...    ...\n",
              "8123     1             0            0      0\n",
              "8124     0             0            0      3\n",
              "8125     0             0            0      0\n",
              "8126     0             0            0      0\n",
              "8127     0             0            0      0\n",
              "\n",
              "[8128 rows x 4 columns]"
            ]
          },
          "metadata": {
            "tags": []
          },
          "execution_count": 131
        }
      ]
    },
    {
      "cell_type": "code",
      "metadata": {
        "id": "7lHepceVKJhS"
      },
      "source": [
        "# Fixing missing value\n",
        "carData.dropna(inplace=True)"
      ],
      "execution_count": 132,
      "outputs": []
    },
    {
      "cell_type": "code",
      "metadata": {
        "colab": {
          "base_uri": "https://localhost:8080/"
        },
        "id": "4eq77XfAKbfJ",
        "outputId": "ea75eb79-1c6c-4e18-c13a-9a4a8d2b52c7"
      },
      "source": [
        "# Checking is the data have Null or Nah\n",
        "carData.isnull().sum()"
      ],
      "execution_count": 133,
      "outputs": [
        {
          "output_type": "execute_result",
          "data": {
            "text/plain": [
              "name             0\n",
              "year             0\n",
              "selling_price    0\n",
              "km_driven        0\n",
              "fuel             0\n",
              "seller_type      0\n",
              "transmission     0\n",
              "owner            0\n",
              "mileage          0\n",
              "engine           0\n",
              "max_power        0\n",
              "torque           0\n",
              "seats            0\n",
              "dtype: int64"
            ]
          },
          "metadata": {
            "tags": []
          },
          "execution_count": 133
        }
      ]
    },
    {
      "cell_type": "code",
      "metadata": {
        "colab": {
          "base_uri": "https://localhost:8080/",
          "height": 419
        },
        "id": "3ushJLwAHINZ",
        "outputId": "da7b340e-8b83-4247-f0d5-3b4275b99531"
      },
      "source": [
        "# Checking the Object type\n",
        "carData.loc[:, ['mileage', 'engine', 'max_power', 'torque']]"
      ],
      "execution_count": 134,
      "outputs": [
        {
          "output_type": "execute_result",
          "data": {
            "text/html": [
              "<div>\n",
              "<style scoped>\n",
              "    .dataframe tbody tr th:only-of-type {\n",
              "        vertical-align: middle;\n",
              "    }\n",
              "\n",
              "    .dataframe tbody tr th {\n",
              "        vertical-align: top;\n",
              "    }\n",
              "\n",
              "    .dataframe thead th {\n",
              "        text-align: right;\n",
              "    }\n",
              "</style>\n",
              "<table border=\"1\" class=\"dataframe\">\n",
              "  <thead>\n",
              "    <tr style=\"text-align: right;\">\n",
              "      <th></th>\n",
              "      <th>mileage</th>\n",
              "      <th>engine</th>\n",
              "      <th>max_power</th>\n",
              "      <th>torque</th>\n",
              "    </tr>\n",
              "  </thead>\n",
              "  <tbody>\n",
              "    <tr>\n",
              "      <th>0</th>\n",
              "      <td>23.4 kmpl</td>\n",
              "      <td>1248 CC</td>\n",
              "      <td>74 bhp</td>\n",
              "      <td>190Nm@ 2000rpm</td>\n",
              "    </tr>\n",
              "    <tr>\n",
              "      <th>1</th>\n",
              "      <td>21.14 kmpl</td>\n",
              "      <td>1498 CC</td>\n",
              "      <td>103.52 bhp</td>\n",
              "      <td>250Nm@ 1500-2500rpm</td>\n",
              "    </tr>\n",
              "    <tr>\n",
              "      <th>2</th>\n",
              "      <td>17.7 kmpl</td>\n",
              "      <td>1497 CC</td>\n",
              "      <td>78 bhp</td>\n",
              "      <td>12.7@ 2,700(kgm@ rpm)</td>\n",
              "    </tr>\n",
              "    <tr>\n",
              "      <th>3</th>\n",
              "      <td>23.0 kmpl</td>\n",
              "      <td>1396 CC</td>\n",
              "      <td>90 bhp</td>\n",
              "      <td>22.4 kgm at 1750-2750rpm</td>\n",
              "    </tr>\n",
              "    <tr>\n",
              "      <th>4</th>\n",
              "      <td>16.1 kmpl</td>\n",
              "      <td>1298 CC</td>\n",
              "      <td>88.2 bhp</td>\n",
              "      <td>11.5@ 4,500(kgm@ rpm)</td>\n",
              "    </tr>\n",
              "    <tr>\n",
              "      <th>...</th>\n",
              "      <td>...</td>\n",
              "      <td>...</td>\n",
              "      <td>...</td>\n",
              "      <td>...</td>\n",
              "    </tr>\n",
              "    <tr>\n",
              "      <th>8123</th>\n",
              "      <td>18.5 kmpl</td>\n",
              "      <td>1197 CC</td>\n",
              "      <td>82.85 bhp</td>\n",
              "      <td>113.7Nm@ 4000rpm</td>\n",
              "    </tr>\n",
              "    <tr>\n",
              "      <th>8124</th>\n",
              "      <td>16.8 kmpl</td>\n",
              "      <td>1493 CC</td>\n",
              "      <td>110 bhp</td>\n",
              "      <td>24@ 1,900-2,750(kgm@ rpm)</td>\n",
              "    </tr>\n",
              "    <tr>\n",
              "      <th>8125</th>\n",
              "      <td>19.3 kmpl</td>\n",
              "      <td>1248 CC</td>\n",
              "      <td>73.9 bhp</td>\n",
              "      <td>190Nm@ 2000rpm</td>\n",
              "    </tr>\n",
              "    <tr>\n",
              "      <th>8126</th>\n",
              "      <td>23.57 kmpl</td>\n",
              "      <td>1396 CC</td>\n",
              "      <td>70 bhp</td>\n",
              "      <td>140Nm@ 1800-3000rpm</td>\n",
              "    </tr>\n",
              "    <tr>\n",
              "      <th>8127</th>\n",
              "      <td>23.57 kmpl</td>\n",
              "      <td>1396 CC</td>\n",
              "      <td>70 bhp</td>\n",
              "      <td>140Nm@ 1800-3000rpm</td>\n",
              "    </tr>\n",
              "  </tbody>\n",
              "</table>\n",
              "<p>7906 rows × 4 columns</p>\n",
              "</div>"
            ],
            "text/plain": [
              "         mileage   engine   max_power                     torque\n",
              "0      23.4 kmpl  1248 CC      74 bhp             190Nm@ 2000rpm\n",
              "1     21.14 kmpl  1498 CC  103.52 bhp        250Nm@ 1500-2500rpm\n",
              "2      17.7 kmpl  1497 CC      78 bhp      12.7@ 2,700(kgm@ rpm)\n",
              "3      23.0 kmpl  1396 CC      90 bhp   22.4 kgm at 1750-2750rpm\n",
              "4      16.1 kmpl  1298 CC    88.2 bhp      11.5@ 4,500(kgm@ rpm)\n",
              "...          ...      ...         ...                        ...\n",
              "8123   18.5 kmpl  1197 CC   82.85 bhp           113.7Nm@ 4000rpm\n",
              "8124   16.8 kmpl  1493 CC     110 bhp  24@ 1,900-2,750(kgm@ rpm)\n",
              "8125   19.3 kmpl  1248 CC    73.9 bhp             190Nm@ 2000rpm\n",
              "8126  23.57 kmpl  1396 CC      70 bhp        140Nm@ 1800-3000rpm\n",
              "8127  23.57 kmpl  1396 CC      70 bhp        140Nm@ 1800-3000rpm\n",
              "\n",
              "[7906 rows x 4 columns]"
            ]
          },
          "metadata": {
            "tags": []
          },
          "execution_count": 134
        }
      ]
    },
    {
      "cell_type": "code",
      "metadata": {
        "id": "zYNo7clVIH8n"
      },
      "source": [
        "# Cleaning mileage data\n",
        "carData['mileage'] = carData['mileage'].str.replace('kmpl', '').str.replace('km/kg', '').str.replace(',', '')\n",
        "\n",
        "# Cleaning engine data\n",
        "carData['engine'] = carData['engine'].str.replace('CC', '').str.replace(',', '')\n",
        "\n",
        "# Cleaning max_power data\n",
        "carData['max_power'] = carData['max_power'].str.replace('bhp', '').str.replace(',', '')"
      ],
      "execution_count": 135,
      "outputs": []
    },
    {
      "cell_type": "code",
      "metadata": {
        "id": "-4JFFRiWIgB0"
      },
      "source": [
        "# Convert mileage data to numeric\n",
        "carData['mileage'] = pd.to_numeric(carData['mileage'])\n",
        "\n",
        "# Convert engine data to numeric\n",
        "carData['engine'] = pd.to_numeric(carData['engine'])\n",
        "\n",
        "# Convert max_power data to numeric\n",
        "carData['max_power'] = pd.to_numeric(carData['max_power'])"
      ],
      "execution_count": 136,
      "outputs": []
    },
    {
      "cell_type": "code",
      "metadata": {
        "colab": {
          "base_uri": "https://localhost:8080/"
        },
        "id": "HfTYc8NHJnBx",
        "outputId": "0e3cb466-2b6c-4e34-ef4b-48b483a5edc2"
      },
      "source": [
        "# Getting some information about the data frame\n",
        "carData.info()"
      ],
      "execution_count": 137,
      "outputs": [
        {
          "output_type": "stream",
          "text": [
            "<class 'pandas.core.frame.DataFrame'>\n",
            "Int64Index: 7906 entries, 0 to 8127\n",
            "Data columns (total 13 columns):\n",
            " #   Column         Non-Null Count  Dtype  \n",
            "---  ------         --------------  -----  \n",
            " 0   name           7906 non-null   object \n",
            " 1   year           7906 non-null   int64  \n",
            " 2   selling_price  7906 non-null   int64  \n",
            " 3   km_driven      7906 non-null   int64  \n",
            " 4   fuel           7906 non-null   int64  \n",
            " 5   seller_type    7906 non-null   int64  \n",
            " 6   transmission   7906 non-null   int64  \n",
            " 7   owner          7906 non-null   int64  \n",
            " 8   mileage        7906 non-null   float64\n",
            " 9   engine         7906 non-null   int64  \n",
            " 10  max_power      7906 non-null   float64\n",
            " 11  torque         7906 non-null   object \n",
            " 12  seats          7906 non-null   float64\n",
            "dtypes: float64(3), int64(8), object(2)\n",
            "memory usage: 864.7+ KB\n"
          ],
          "name": "stdout"
        }
      ]
    },
    {
      "cell_type": "code",
      "metadata": {
        "id": "zBD35FFeKgnO"
      },
      "source": [
        "# Make a correlation data to knowing Value Strength and Direction of Linear Relationship\n",
        "correlation = carData.corr()"
      ],
      "execution_count": 138,
      "outputs": []
    },
    {
      "cell_type": "markdown",
      "metadata": {
        "id": "94GRF8kQEC_X"
      },
      "source": [
        "## **Visualize Data & Checking**"
      ]
    },
    {
      "cell_type": "code",
      "metadata": {
        "id": "gHzo1x_GNVOs"
      },
      "source": [
        "# Setting sns theme\n",
        "sns.set_theme(color_codes=True, style='darkgrid', palette='deep', font='sans-serif')"
      ],
      "execution_count": 139,
      "outputs": []
    },
    {
      "cell_type": "code",
      "metadata": {
        "colab": {
          "base_uri": "https://localhost:8080/",
          "height": 627
        },
        "id": "y0iqnEaeNUAv",
        "outputId": "9f85b8bb-d4fb-4418-d7d1-103391a01a14"
      },
      "source": [
        "# Constructing a heatmap to understand the correlation\n",
        "plt.figure(figsize=(10, 10))\n",
        "sns.heatmap(correlation, cbar=True, square=True, fmt='.1f', annot=True, annot_kws={'size': 8}, cmap='Blues')"
      ],
      "execution_count": 140,
      "outputs": [
        {
          "output_type": "execute_result",
          "data": {
            "text/plain": [
              "<matplotlib.axes._subplots.AxesSubplot at 0x7fd5f0989f90>"
            ]
          },
          "metadata": {
            "tags": []
          },
          "execution_count": 140
        },
        {
          "output_type": "display_data",
          "data": {
            "image/png": "[encoded data removed]",
            "text/plain": [
              "<Figure size 720x720 with 2 Axes>"
            ]
          },
          "metadata": {
            "tags": []
          }
        }
      ]
    },
    {
      "cell_type": "code",
      "metadata": {
        "colab": {
          "base_uri": "https://localhost:8080/",
          "height": 437
        },
        "id": "hfqyFwF5PK60",
        "outputId": "f5063031-13eb-42b2-8797-bdfee4c87471"
      },
      "source": [
        "sns.jointplot(x=\"year\", y=\"selling_price\", data=carData, kind=\"reg\")"
      ],
      "execution_count": 141,
      "outputs": [
        {
          "output_type": "display_data",
          "data": {
            "image/png": "[encoded data removed]",
            "text/plain": [
              "<Figure size 432x432 with 3 Axes>"
            ]
          },
          "metadata": {
            "tags": []
          }
        }
      ]
    },
    {
      "cell_type": "code",
      "metadata": {
        "colab": {
          "base_uri": "https://localhost:8080/",
          "height": 687
        },
        "id": "r-35eP8QPqAe",
        "outputId": "1d2544c8-6dbe-4d46-cdf0-7b159159e021"
      },
      "source": [
        "sns.lmplot(x=\"year\", y=\"selling_price\", col=\"owner\", data=carData, col_wrap=2, height=3)"
      ],
      "execution_count": 142,
      "outputs": [
        {
          "output_type": "execute_result",
          "data": {
            "text/plain": [
              "<seaborn.axisgrid.FacetGrid at 0x7fd5effb2e50>"
            ]
          },
          "metadata": {
            "tags": []
          },
          "execution_count": 142
        },
        {
          "output_type": "display_data",
          "data": {
            "image/png": "[encoded data removed]",
            "text/plain": [
              "<Figure size 432x648 with 5 Axes>"
            ]
          },
          "metadata": {
            "tags": []
          }
        }
      ]
    },
    {
      "cell_type": "code",
      "metadata": {
        "colab": {
          "base_uri": "https://localhost:8080/",
          "height": 399
        },
        "id": "0O7y5CrBN4xI",
        "outputId": "7e26b7c1-a824-41cd-8d95-a74cde88f878"
      },
      "source": [
        "sns.lmplot(x=\"year\", y=\"selling_price\", data=carData, lowess=True)"
      ],
      "execution_count": 143,
      "outputs": [
        {
          "output_type": "execute_result",
          "data": {
            "text/plain": [
              "<seaborn.axisgrid.FacetGrid at 0x7fd5efe36310>"
            ]
          },
          "metadata": {
            "tags": []
          },
          "execution_count": 143
        },
        {
          "output_type": "display_data",
          "data": {
            "image/png": "[encoded data removed]",
            "text/plain": [
              "<Figure size 360x360 with 1 Axes>"
            ]
          },
          "metadata": {
            "tags": []
          }
        }
      ]
    },
    {
      "cell_type": "code",
      "metadata": {
        "colab": {
          "base_uri": "https://localhost:8080/",
          "height": 399
        },
        "id": "jFIOu3lmOZLm",
        "outputId": "c92eb2f2-d944-40c1-d4f2-fc7c36c3c3e9"
      },
      "source": [
        "sns.lmplot(x=\"year\", y=\"selling_price\", hue=\"seller_type\", data=carData)"
      ],
      "execution_count": 144,
      "outputs": [
        {
          "output_type": "execute_result",
          "data": {
            "text/plain": [
              "<seaborn.axisgrid.FacetGrid at 0x7fd5efd184d0>"
            ]
          },
          "metadata": {
            "tags": []
          },
          "execution_count": 144
        },
        {
          "output_type": "display_data",
          "data": {
            "image/png": "[encoded data removed]",
            "text/plain": [
              "<Figure size 434.55x360 with 1 Axes>"
            ]
          },
          "metadata": {
            "tags": []
          }
        }
      ]
    },
    {
      "cell_type": "code",
      "metadata": {
        "colab": {
          "base_uri": "https://localhost:8080/",
          "height": 399
        },
        "id": "G892bL41O2cN",
        "outputId": "0d744404-969f-4ba4-8865-5f95ee0ed046"
      },
      "source": [
        "sns.lmplot(x=\"year\", y=\"selling_price\", col=\"seller_type\", data=carData, aspect=.5)"
      ],
      "execution_count": 145,
      "outputs": [
        {
          "output_type": "execute_result",
          "data": {
            "text/plain": [
              "<seaborn.axisgrid.FacetGrid at 0x7fd5f00ccf50>"
            ]
          },
          "metadata": {
            "tags": []
          },
          "execution_count": 145
        },
        {
          "output_type": "display_data",
          "data": {
            "image/png": "[encoded data removed]",
            "text/plain": [
              "<Figure size 540x360 with 3 Axes>"
            ]
          },
          "metadata": {
            "tags": []
          }
        }
      ]
    },
    {
      "cell_type": "code",
      "metadata": {
        "colab": {
          "base_uri": "https://localhost:8080/",
          "height": 204
        },
        "id": "3RGoMkhMQSAi",
        "outputId": "2dd92aef-6f02-47b4-ea85-2b0e3806c475"
      },
      "source": [
        "# Checking the data\n",
        "carData.head()"
      ],
      "execution_count": 146,
      "outputs": [
        {
          "output_type": "execute_result",
          "data": {
            "text/html": [
              "<div>\n",
              "<style scoped>\n",
              "    .dataframe tbody tr th:only-of-type {\n",
              "        vertical-align: middle;\n",
              "    }\n",
              "\n",
              "    .dataframe tbody tr th {\n",
              "        vertical-align: top;\n",
              "    }\n",
              "\n",
              "    .dataframe thead th {\n",
              "        text-align: right;\n",
              "    }\n",
              "</style>\n",
              "<table border=\"1\" class=\"dataframe\">\n",
              "  <thead>\n",
              "    <tr style=\"text-align: right;\">\n",
              "      <th></th>\n",
              "      <th>name</th>\n",
              "      <th>year</th>\n",
              "      <th>selling_price</th>\n",
              "      <th>km_driven</th>\n",
              "      <th>fuel</th>\n",
              "      <th>seller_type</th>\n",
              "      <th>transmission</th>\n",
              "      <th>owner</th>\n",
              "      <th>mileage</th>\n",
              "      <th>engine</th>\n",
              "      <th>max_power</th>\n",
              "      <th>torque</th>\n",
              "      <th>seats</th>\n",
              "    </tr>\n",
              "  </thead>\n",
              "  <tbody>\n",
              "    <tr>\n",
              "      <th>0</th>\n",
              "      <td>Maruti Swift Dzire VDI</td>\n",
              "      <td>2014</td>\n",
              "      <td>450000</td>\n",
              "      <td>145500</td>\n",
              "      <td>0</td>\n",
              "      <td>0</td>\n",
              "      <td>0</td>\n",
              "      <td>0</td>\n",
              "      <td>23.40</td>\n",
              "      <td>1248</td>\n",
              "      <td>74.00</td>\n",
              "      <td>190Nm@ 2000rpm</td>\n",
              "      <td>5.0</td>\n",
              "    </tr>\n",
              "    <tr>\n",
              "      <th>1</th>\n",
              "      <td>Skoda Rapid 1.5 TDI Ambition</td>\n",
              "      <td>2014</td>\n",
              "      <td>370000</td>\n",
              "      <td>120000</td>\n",
              "      <td>0</td>\n",
              "      <td>0</td>\n",
              "      <td>0</td>\n",
              "      <td>1</td>\n",
              "      <td>21.14</td>\n",
              "      <td>1498</td>\n",
              "      <td>103.52</td>\n",
              "      <td>250Nm@ 1500-2500rpm</td>\n",
              "      <td>5.0</td>\n",
              "    </tr>\n",
              "    <tr>\n",
              "      <th>2</th>\n",
              "      <td>Honda City 2017-2020 EXi</td>\n",
              "      <td>2006</td>\n",
              "      <td>158000</td>\n",
              "      <td>140000</td>\n",
              "      <td>1</td>\n",
              "      <td>0</td>\n",
              "      <td>0</td>\n",
              "      <td>2</td>\n",
              "      <td>17.70</td>\n",
              "      <td>1497</td>\n",
              "      <td>78.00</td>\n",
              "      <td>12.7@ 2,700(kgm@ rpm)</td>\n",
              "      <td>5.0</td>\n",
              "    </tr>\n",
              "    <tr>\n",
              "      <th>3</th>\n",
              "      <td>Hyundai i20 Sportz Diesel</td>\n",
              "      <td>2010</td>\n",
              "      <td>225000</td>\n",
              "      <td>127000</td>\n",
              "      <td>0</td>\n",
              "      <td>0</td>\n",
              "      <td>0</td>\n",
              "      <td>0</td>\n",
              "      <td>23.00</td>\n",
              "      <td>1396</td>\n",
              "      <td>90.00</td>\n",
              "      <td>22.4 kgm at 1750-2750rpm</td>\n",
              "      <td>5.0</td>\n",
              "    </tr>\n",
              "    <tr>\n",
              "      <th>4</th>\n",
              "      <td>Maruti Swift VXI BSIII</td>\n",
              "      <td>2007</td>\n",
              "      <td>130000</td>\n",
              "      <td>120000</td>\n",
              "      <td>1</td>\n",
              "      <td>0</td>\n",
              "      <td>0</td>\n",
              "      <td>0</td>\n",
              "      <td>16.10</td>\n",
              "      <td>1298</td>\n",
              "      <td>88.20</td>\n",
              "      <td>11.5@ 4,500(kgm@ rpm)</td>\n",
              "      <td>5.0</td>\n",
              "    </tr>\n",
              "  </tbody>\n",
              "</table>\n",
              "</div>"
            ],
            "text/plain": [
              "                           name  year  ...                    torque  seats\n",
              "0        Maruti Swift Dzire VDI  2014  ...            190Nm@ 2000rpm    5.0\n",
              "1  Skoda Rapid 1.5 TDI Ambition  2014  ...       250Nm@ 1500-2500rpm    5.0\n",
              "2      Honda City 2017-2020 EXi  2006  ...     12.7@ 2,700(kgm@ rpm)    5.0\n",
              "3     Hyundai i20 Sportz Diesel  2010  ...  22.4 kgm at 1750-2750rpm    5.0\n",
              "4        Maruti Swift VXI BSIII  2007  ...     11.5@ 4,500(kgm@ rpm)    5.0\n",
              "\n",
              "[5 rows x 13 columns]"
            ]
          },
          "metadata": {
            "tags": []
          },
          "execution_count": 146
        }
      ]
    },
    {
      "cell_type": "code",
      "metadata": {
        "colab": {
          "base_uri": "https://localhost:8080/"
        },
        "id": "Capj3abJQWbR",
        "outputId": "0e46a50e-2ccd-44be-b6f2-7ff8b5cc95f9"
      },
      "source": [
        "# Checking the type of data\n",
        "carData.dtypes"
      ],
      "execution_count": 147,
      "outputs": [
        {
          "output_type": "execute_result",
          "data": {
            "text/plain": [
              "name              object\n",
              "year               int64\n",
              "selling_price      int64\n",
              "km_driven          int64\n",
              "fuel               int64\n",
              "seller_type        int64\n",
              "transmission       int64\n",
              "owner              int64\n",
              "mileage          float64\n",
              "engine             int64\n",
              "max_power        float64\n",
              "torque            object\n",
              "seats            float64\n",
              "dtype: object"
            ]
          },
          "metadata": {
            "tags": []
          },
          "execution_count": 147
        }
      ]
    },
    {
      "cell_type": "markdown",
      "metadata": {
        "id": "GThXdf4FEUvQ"
      },
      "source": [
        "## **Splitting Data**"
      ]
    },
    {
      "cell_type": "code",
      "metadata": {
        "id": "BQhT-jD0QQl0"
      },
      "source": [
        "X = carData.drop(['name', 'selling_price', 'torque'], axis=1)\n",
        "y = carData['selling_price']"
      ],
      "execution_count": 148,
      "outputs": []
    },
    {
      "cell_type": "code",
      "metadata": {
        "id": "3mBjeULlQcXa"
      },
      "source": [
        "trainX, testX, trainY, testY = train_test_split(\n",
        "    X, y,\n",
        "    test_size=0.1,\n",
        "    shuffle=False,\n",
        "    random_state=1\n",
        ")"
      ],
      "execution_count": 149,
      "outputs": []
    },
    {
      "cell_type": "markdown",
      "metadata": {
        "id": "Sxg8BuF1EZqg"
      },
      "source": [
        "## **Training Model With XGBRegressor**"
      ]
    },
    {
      "cell_type": "code",
      "metadata": {
        "colab": {
          "base_uri": "https://localhost:8080/"
        },
        "id": "41xedESKPg2u",
        "outputId": "829ca84a-ab2c-4bf8-eb22-700bba1bafa8"
      },
      "source": [
        "model = XGBRegressor(\n",
        "    n_estimators=500, \n",
        "    learning_rate=0.5, \n",
        "    random_state=1, \n",
        "    booster='gbtree', \n",
        "    verbosity=1, \n",
        "    n_jobs=5)\n",
        "\n",
        "model.fit(trainX, trainY)"
      ],
      "execution_count": 150,
      "outputs": [
        {
          "output_type": "stream",
          "text": [
            "[13:47:56] WARNING: /workspace/src/objective/regression_obj.cu:152: reg:linear is now deprecated in favor of reg:squarederror.\n"
          ],
          "name": "stdout"
        },
        {
          "output_type": "execute_result",
          "data": {
            "text/plain": [
              "XGBRegressor(base_score=0.5, booster='gbtree', colsample_bylevel=1,\n",
              "             colsample_bynode=1, colsample_bytree=1, gamma=0,\n",
              "             importance_type='gain', learning_rate=0.5, max_delta_step=0,\n",
              "             max_depth=3, min_child_weight=1, missing=None, n_estimators=500,\n",
              "             n_jobs=5, nthread=None, objective='reg:linear', random_state=1,\n",
              "             reg_alpha=0, reg_lambda=1, scale_pos_weight=1, seed=None,\n",
              "             silent=None, subsample=1, verbosity=1)"
            ]
          },
          "metadata": {
            "tags": []
          },
          "execution_count": 150
        }
      ]
    },
    {
      "cell_type": "markdown",
      "metadata": {
        "id": "sItjPIoqEkrP"
      },
      "source": [
        "## **Evaluate Model**"
      ]
    },
    {
      "cell_type": "code",
      "metadata": {
        "id": "_w-vopfODzYB"
      },
      "source": [
        "# predict X train\n",
        "trainPredict = model.predict(trainX)\n",
        "\n",
        "# predict X test  \n",
        "testPredict = model.predict(testX)"
      ],
      "execution_count": 151,
      "outputs": []
    },
    {
      "cell_type": "code",
      "metadata": {
        "colab": {
          "base_uri": "https://localhost:8080/"
        },
        "id": "XRx6dk1BEdGa",
        "outputId": "39e7c0b9-52cc-42c7-cedb-5b11e738c846"
      },
      "source": [
        "# Train X \n",
        "\n",
        "# R Squared \n",
        "trainRsquared = metrics.r2_score(trainY, trainPredict)\n",
        "print(f'R-Squared : {trainRsquared}')\n",
        "\n",
        "# Mean Absolute Error\n",
        "trainMAE = metrics.mean_absolute_error(trainY, trainPredict)\n",
        "print(f'MAE : {trainMAE}')\n",
        "\n",
        "#  Mean Squared Error\n",
        "trainMSE = metrics.mean_squared_error(trainY, trainPredict)\n",
        "print(f'MSE : {trainMSE}')\n",
        "\n",
        "#  Root Mean Squared Error\n",
        "trainRMSE = math.sqrt(metrics.mean_squared_error(trainY, trainPredict))\n",
        "print(f'RMSE : {trainRMSE}')\n",
        "\n",
        "# Median\n",
        "trainM = metrics.median_absolute_error(trainY, trainPredict)\n",
        "print(f'Median : {trainM}')"
      ],
      "execution_count": 152,
      "outputs": [
        {
          "output_type": "stream",
          "text": [
            "R-Squared : 0.9947149320317166\n",
            "MAE : 41411.222458604185\n",
            "MSE : 3502198745.0653515\n",
            "RMSE : 59179.37770089638\n",
            "Median : 29002.21875\n"
          ],
          "name": "stdout"
        }
      ]
    },
    {
      "cell_type": "code",
      "metadata": {
        "colab": {
          "base_uri": "https://localhost:8080/"
        },
        "id": "fI6--qM0GIhQ",
        "outputId": "2b5e495c-6c66-40e6-fb24-36efbdc2cfaf"
      },
      "source": [
        "# Train X \n",
        "\n",
        "# R Squared \n",
        "testRsquared = metrics.r2_score(testY, testPredict)\n",
        "print(f'R-Squared : {testRsquared}')\n",
        "\n",
        "# Mean Absolute Error\n",
        "testMAE = metrics.mean_absolute_error(testY, testPredict)\n",
        "print(f'MAE : {testMAE}')\n",
        "\n",
        "#  Mean Squared Error\n",
        "testMSE = metrics.mean_squared_error(testY, testPredict)\n",
        "print(f'MSE : {testMSE}')\n",
        "\n",
        "#  Root Mean Squared Error\n",
        "testRMSE = math.sqrt(metrics.mean_squared_error(testY, testPredict))\n",
        "print(f'RMSE : {testRMSE}')\n",
        "\n",
        "# Median\n",
        "testM = metrics.median_absolute_error(testY, testPredict)\n",
        "print(f'Median : {testM}')"
      ],
      "execution_count": 153,
      "outputs": [
        {
          "output_type": "stream",
          "text": [
            "R-Squared : 0.9620368487468594\n",
            "MAE : 82121.06699391593\n",
            "MSE : 24802076270.51157\n",
            "RMSE : 157486.74950773342\n",
            "Median : 44601.25\n"
          ],
          "name": "stdout"
        }
      ]
    },
    {
      "cell_type": "code",
      "metadata": {
        "colab": {
          "base_uri": "https://localhost:8080/",
          "height": 301
        },
        "id": "IxwfT3HqGxxv",
        "outputId": "67c5d19b-da56-4f1b-9ae4-fbc20319f539"
      },
      "source": [
        "# train data\n",
        "plt.scatter(trainY, trainPredict)\n",
        "plt.title('Actual Prices & Prediction Prices')\n",
        "plt.xlabel('Actual Prices')\n",
        "plt.ylabel('Prediction Prices')\n",
        "plt.grid(True)\n",
        "plt.show()"
      ],
      "execution_count": 154,
      "outputs": [
        {
          "output_type": "display_data",
          "data": {
            "image/png": "[encoded data removed]",
            "text/plain": [
              "<Figure size 432x288 with 1 Axes>"
            ]
          },
          "metadata": {
            "tags": []
          }
        }
      ]
    },
    {
      "cell_type": "code",
      "metadata": {
        "colab": {
          "base_uri": "https://localhost:8080/",
          "height": 301
        },
        "id": "Jzfw6-rWIQz2",
        "outputId": "8b7ff361-1a74-47a5-cb21-ecc85c350be1"
      },
      "source": [
        "# test data\n",
        "plt.scatter(testY, testPredict)\n",
        "plt.title('Actual Prices & Prediction Prices')\n",
        "plt.xlabel('Actual Prices')\n",
        "plt.ylabel('Prediction Prices')\n",
        "plt.grid(True)\n",
        "plt.show()"
      ],
      "execution_count": 155,
      "outputs": [
        {
          "output_type": "display_data",
          "data": {
            "image/png": "[encoded data removed]",
            "text/plain": [
              "<Figure size 432x288 with 1 Axes>"
            ]
          },
          "metadata": {
            "tags": []
          }
        }
      ]
    },
    {
      "cell_type": "markdown",
      "metadata": {
        "id": "lfDb6-fXEpIp"
      },
      "source": [
        "## **Prediction**"
      ]
    },
    {
      "cell_type": "code",
      "metadata": {
        "id": "xL0UUNvlJC1F"
      },
      "source": [
        "trainOutput = pd.DataFrame({\n",
        "    'Train Actual Price': trainY,\n",
        "    'Train Predicted Price ': trainPredict})\n",
        "\n",
        "trainOutput.to_csv('Train Prediction.csv', index=False)"
      ],
      "execution_count": 156,
      "outputs": []
    },
    {
      "cell_type": "code",
      "metadata": {
        "colab": {
          "base_uri": "https://localhost:8080/",
          "height": 204
        },
        "id": "YOXsGRSPPVvM",
        "outputId": "5b506cbb-98c9-417d-809a-1e988061c121"
      },
      "source": [
        "trainDataPredict = pd.read_csv('/content/Train Prediction')\n",
        "trainDataPredict.head()"
      ],
      "execution_count": 160,
      "outputs": [
        {
          "output_type": "execute_result",
          "data": {
            "text/html": [
              "<div>\n",
              "<style scoped>\n",
              "    .dataframe tbody tr th:only-of-type {\n",
              "        vertical-align: middle;\n",
              "    }\n",
              "\n",
              "    .dataframe tbody tr th {\n",
              "        vertical-align: top;\n",
              "    }\n",
              "\n",
              "    .dataframe thead th {\n",
              "        text-align: right;\n",
              "    }\n",
              "</style>\n",
              "<table border=\"1\" class=\"dataframe\">\n",
              "  <thead>\n",
              "    <tr style=\"text-align: right;\">\n",
              "      <th></th>\n",
              "      <th>Train Actual Price</th>\n",
              "      <th>Train Predicted Price</th>\n",
              "    </tr>\n",
              "  </thead>\n",
              "  <tbody>\n",
              "    <tr>\n",
              "      <th>0</th>\n",
              "      <td>450000</td>\n",
              "      <td>456960.38</td>\n",
              "    </tr>\n",
              "    <tr>\n",
              "      <th>1</th>\n",
              "      <td>370000</td>\n",
              "      <td>491535.20</td>\n",
              "    </tr>\n",
              "    <tr>\n",
              "      <th>2</th>\n",
              "      <td>158000</td>\n",
              "      <td>178206.06</td>\n",
              "    </tr>\n",
              "    <tr>\n",
              "      <th>3</th>\n",
              "      <td>225000</td>\n",
              "      <td>288113.06</td>\n",
              "    </tr>\n",
              "    <tr>\n",
              "      <th>4</th>\n",
              "      <td>130000</td>\n",
              "      <td>190494.73</td>\n",
              "    </tr>\n",
              "  </tbody>\n",
              "</table>\n",
              "</div>"
            ],
            "text/plain": [
              "   Train Actual Price  Train Predicted Price \n",
              "0              450000               456960.38\n",
              "1              370000               491535.20\n",
              "2              158000               178206.06\n",
              "3              225000               288113.06\n",
              "4              130000               190494.73"
            ]
          },
          "metadata": {
            "tags": []
          },
          "execution_count": 160
        }
      ]
    },
    {
      "cell_type": "code",
      "metadata": {
        "id": "go8KwPzLO2fy"
      },
      "source": [
        "testOutput = pd.DataFrame({\n",
        "    'Train Actual Price': testY,\n",
        "    'Train Predicted Price ': testPredict})\n",
        "\n",
        "testOutput.to_csv('Test Prediction.csv', index=False)"
      ],
      "execution_count": 157,
      "outputs": []
    },
    {
      "cell_type": "code",
      "metadata": {
        "colab": {
          "base_uri": "https://localhost:8080/",
          "height": 204
        },
        "id": "m-_7jB0GPqY5",
        "outputId": "9c4f7541-c2c5-4367-809d-43085c41bc05"
      },
      "source": [
        "testDataPredict = pd.read_csv('/content/Test Prediction')\n",
        "testDataPredict.head()"
      ],
      "execution_count": 161,
      "outputs": [
        {
          "output_type": "execute_result",
          "data": {
            "text/html": [
              "<div>\n",
              "<style scoped>\n",
              "    .dataframe tbody tr th:only-of-type {\n",
              "        vertical-align: middle;\n",
              "    }\n",
              "\n",
              "    .dataframe tbody tr th {\n",
              "        vertical-align: top;\n",
              "    }\n",
              "\n",
              "    .dataframe thead th {\n",
              "        text-align: right;\n",
              "    }\n",
              "</style>\n",
              "<table border=\"1\" class=\"dataframe\">\n",
              "  <thead>\n",
              "    <tr style=\"text-align: right;\">\n",
              "      <th></th>\n",
              "      <th>Train Actual Price</th>\n",
              "      <th>Train Predicted Price</th>\n",
              "    </tr>\n",
              "  </thead>\n",
              "  <tbody>\n",
              "    <tr>\n",
              "      <th>0</th>\n",
              "      <td>250000</td>\n",
              "      <td>372075.70</td>\n",
              "    </tr>\n",
              "    <tr>\n",
              "      <th>1</th>\n",
              "      <td>275000</td>\n",
              "      <td>253187.23</td>\n",
              "    </tr>\n",
              "    <tr>\n",
              "      <th>2</th>\n",
              "      <td>454000</td>\n",
              "      <td>471500.97</td>\n",
              "    </tr>\n",
              "    <tr>\n",
              "      <th>3</th>\n",
              "      <td>600000</td>\n",
              "      <td>693261.70</td>\n",
              "    </tr>\n",
              "    <tr>\n",
              "      <th>4</th>\n",
              "      <td>400000</td>\n",
              "      <td>279168.20</td>\n",
              "    </tr>\n",
              "  </tbody>\n",
              "</table>\n",
              "</div>"
            ],
            "text/plain": [
              "   Train Actual Price  Train Predicted Price \n",
              "0              250000               372075.70\n",
              "1              275000               253187.23\n",
              "2              454000               471500.97\n",
              "3              600000               693261.70\n",
              "4              400000               279168.20"
            ]
          },
          "metadata": {
            "tags": []
          },
          "execution_count": 161
        }
      ]
    }
  ]
}